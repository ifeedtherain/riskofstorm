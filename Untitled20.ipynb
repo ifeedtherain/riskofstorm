{
 "cells": [
  {
   "cell_type": "code",
   "execution_count": null,
   "metadata": {
    "collapsed": false
   },
   "outputs": [],
   "source": [
    "a = int(input())\n",
    "while (true):\n",
    "    if(a > 10):\n",
    "        continue\n",
    "    if (a < 100):\n",
    "        break\n",
    "print(a)"
   ]
  },
  {
   "cell_type": "code",
   "execution_count": null,
   "metadata": {
    "collapsed": true
   },
   "outputs": [],
   "source": [
    "L = [(int(input()), int(input()), int(input()), int(input()), int(input())]\n",
    "\n",
    "while(L):\n",
    "    if(L > 10):\n",
    "        continue\n",
    "    if (L > 100):\n",
    "        break\n",
    "        print(l)"
   ]
  },
  {
   "cell_type": "code",
   "execution_count": null,
   "metadata": {
    "collapsed": true
   },
   "outputs": [],
   "source": [
    "a = 0\n",
    "b = ''\n",
    "while a <= 100 :\n",
    "    a = int(input())\n",
    "    if a < 10 :\n",
    "        continue\n",
    "    if a > 100 :\n",
    "        break\n",
    "    b = b + '\\n' + str(a)\n",
    "print(b)"
   ]
  },
  {
   "cell_type": "code",
   "execution_count": null,
   "metadata": {
    "collapsed": true
   },
   "outputs": [],
   "source": []
  }
 ],
 "metadata": {
  "anaconda-cloud": {},
  "kernelspec": {
   "display_name": "Python [conda root]",
   "language": "python",
   "name": "conda-root-py"
  }
 },
 "nbformat": 4,
 "nbformat_minor": 1
}
