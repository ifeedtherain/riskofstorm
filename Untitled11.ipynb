{
 "cells": [
  {
   "cell_type": "code",
   "execution_count": null,
   "metadata": {
    "collapsed": true
   },
   "outputs": [],
   "source": [
    "# put your python code here\n",
    "a = float(input())\n",
    "b = float(input())\n",
    "c = input()\n",
    "if (c == '+'):\n",
    "    print(a + b)\n",
    "elif (c == '-'):\n",
    "    print(a-b)\n",
    "elif (c == '*'):\n",
    "    print(a * b)\n",
    "elif (c == 'pow'):\n",
    "    print(a ** b)\n",
    "elif ((b==0)and (c == '/') or (c == 'div') or(c == 'mod')):\n",
    "    print(\"Деление на 0!\")\n",
    "elif (c == '/' ):\n",
    "    print(a / b)\n",
    "elif (c == 'div'):\n",
    "    print(a // b)\n",
    "\n",
    "elif (c == 'mod'):\n",
    "    print (a % b)"
   ]
  },
  {
   "cell_type": "code",
   "execution_count": null,
   "metadata": {
    "collapsed": true
   },
   "outputs": [],
   "source": []
  }
 ],
 "metadata": {
  "anaconda-cloud": {},
  "kernelspec": {
   "display_name": "Python [conda root]",
   "language": "python",
   "name": "conda-root-py"
  }
 },
 "nbformat": 4,
 "nbformat_minor": 1
}
